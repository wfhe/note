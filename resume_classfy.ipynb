{
 "cells": [
  {
   "cell_type": "code",
   "execution_count": 1,
   "metadata": {},
   "outputs": [],
   "source": [
    "import pandas as pd\n",
    "import numpy as np"
   ]
  },
  {
   "cell_type": "code",
   "execution_count": 48,
   "metadata": {},
   "outputs": [
    {
     "data": {
      "text/html": [
       "<div>\n",
       "<style scoped>\n",
       "    .dataframe tbody tr th:only-of-type {\n",
       "        vertical-align: middle;\n",
       "    }\n",
       "\n",
       "    .dataframe tbody tr th {\n",
       "        vertical-align: top;\n",
       "    }\n",
       "\n",
       "    .dataframe thead th {\n",
       "        text-align: right;\n",
       "    }\n",
       "</style>\n",
       "<table border=\"1\" class=\"dataframe\">\n",
       "  <thead>\n",
       "    <tr style=\"text-align: right;\">\n",
       "      <th></th>\n",
       "      <th>degree</th>\n",
       "      <th>education</th>\n",
       "      <th>skills</th>\n",
       "      <th>working_experience</th>\n",
       "      <th>position</th>\n",
       "    </tr>\n",
       "  </thead>\n",
       "  <tbody>\n",
       "    <tr>\n",
       "      <th>0</th>\n",
       "      <td>master</td>\n",
       "      <td>fudan university</td>\n",
       "      <td>c/c++ stl;c;sql;design patterns;atl com;asp.ne...</td>\n",
       "      <td>bank of china;sap;emc</td>\n",
       "      <td>dev</td>\n",
       "    </tr>\n",
       "    <tr>\n",
       "      <th>1</th>\n",
       "      <td>bachelor</td>\n",
       "      <td>inner mongolia university</td>\n",
       "      <td>c;design patterns;windows;system modeling;stor...</td>\n",
       "      <td>ca technologies;beijing topsec network securit...</td>\n",
       "      <td>dev</td>\n",
       "    </tr>\n",
       "    <tr>\n",
       "      <th>2</th>\n",
       "      <td>bachelor</td>\n",
       "      <td>shanghai university</td>\n",
       "      <td>c;git;java;python;mongodb;selenium;test automa...</td>\n",
       "      <td>tudou.com;ebaotech corporation</td>\n",
       "      <td>dev</td>\n",
       "    </tr>\n",
       "    <tr>\n",
       "      <th>3</th>\n",
       "      <td>master</td>\n",
       "      <td>shanghai jiao tong university</td>\n",
       "      <td>c;java;c++;provisioning;unix;clariion;solaris;...</td>\n",
       "      <td>hp;emc</td>\n",
       "      <td>dev</td>\n",
       "    </tr>\n",
       "    <tr>\n",
       "      <th>4</th>\n",
       "      <td>master</td>\n",
       "      <td>beijing university of post and telecommunications</td>\n",
       "      <td>c;sip;java;tcp/ip;shell scripting;python;ip;cl...</td>\n",
       "      <td>tektronix</td>\n",
       "      <td>dev</td>\n",
       "    </tr>\n",
       "    <tr>\n",
       "      <th>5</th>\n",
       "      <td>master</td>\n",
       "      <td>dalian university of technology</td>\n",
       "      <td>c;sip;shell scripting;operating systems;device...</td>\n",
       "      <td>synopsys;alcatel-lucent</td>\n",
       "      <td>dev</td>\n",
       "    </tr>\n",
       "    <tr>\n",
       "      <th>6</th>\n",
       "      <td>master</td>\n",
       "      <td>beihang university</td>\n",
       "      <td>c++/c;java;sql;python;design patterns;generic ...</td>\n",
       "      <td>emc information technology r&amp;d co.  ltd.;ibm</td>\n",
       "      <td>dev</td>\n",
       "    </tr>\n",
       "    <tr>\n",
       "      <th>7</th>\n",
       "      <td>master</td>\n",
       "      <td>university of california  berkeley - walter a....</td>\n",
       "      <td>cloud applications;web services;big data;cloud...</td>\n",
       "      <td>yahoo;mywire;augmentum</td>\n",
       "      <td>dev</td>\n",
       "    </tr>\n",
       "    <tr>\n",
       "      <th>8</th>\n",
       "      <td>master</td>\n",
       "      <td>nanjing university</td>\n",
       "      <td>customer communication;cloud computing;trouble...</td>\n",
       "      <td>ibm;emc</td>\n",
       "      <td>dev</td>\n",
       "    </tr>\n",
       "    <tr>\n",
       "      <th>9</th>\n",
       "      <td>master</td>\n",
       "      <td>beijing institute of technology</td>\n",
       "      <td>debugging;c;assembly;usb;kernel;device drivers...</td>\n",
       "      <td>innofidei;symantec;intel</td>\n",
       "      <td>dev</td>\n",
       "    </tr>\n",
       "  </tbody>\n",
       "</table>\n",
       "</div>"
      ],
      "text/plain": [
       "     degree                                          education  \\\n",
       "0    master                                   fudan university   \n",
       "1  bachelor                          inner mongolia university   \n",
       "2  bachelor                                shanghai university   \n",
       "3    master                      shanghai jiao tong university   \n",
       "4    master  beijing university of post and telecommunications   \n",
       "5    master                    dalian university of technology   \n",
       "6    master                                 beihang university   \n",
       "7    master  university of california  berkeley - walter a....   \n",
       "8    master                                 nanjing university   \n",
       "9    master                    beijing institute of technology   \n",
       "\n",
       "                                              skills  \\\n",
       "0  c/c++ stl;c;sql;design patterns;atl com;asp.ne...   \n",
       "1  c;design patterns;windows;system modeling;stor...   \n",
       "2  c;git;java;python;mongodb;selenium;test automa...   \n",
       "3  c;java;c++;provisioning;unix;clariion;solaris;...   \n",
       "4  c;sip;java;tcp/ip;shell scripting;python;ip;cl...   \n",
       "5  c;sip;shell scripting;operating systems;device...   \n",
       "6  c++/c;java;sql;python;design patterns;generic ...   \n",
       "7  cloud applications;web services;big data;cloud...   \n",
       "8  customer communication;cloud computing;trouble...   \n",
       "9  debugging;c;assembly;usb;kernel;device drivers...   \n",
       "\n",
       "                                  working_experience position  \n",
       "0                              bank of china;sap;emc      dev  \n",
       "1  ca technologies;beijing topsec network securit...      dev  \n",
       "2                     tudou.com;ebaotech corporation      dev  \n",
       "3                                             hp;emc      dev  \n",
       "4                                          tektronix      dev  \n",
       "5                            synopsys;alcatel-lucent      dev  \n",
       "6       emc information technology r&d co.  ltd.;ibm      dev  \n",
       "7                             yahoo;mywire;augmentum      dev  \n",
       "8                                            ibm;emc      dev  \n",
       "9                           innofidei;symantec;intel      dev  "
      ]
     },
     "execution_count": 48,
     "metadata": {},
     "output_type": "execute_result"
    }
   ],
   "source": [
    "dataset = pd.read_csv('data/employees_dataset.csv')\n",
    "#skills和work_experience列都是多给字符串用分号分隔，此处我想把这两列分别转换成技能个数和经验个数\n",
    "dataset.head(10)"
   ]
  },
  {
   "cell_type": "code",
   "execution_count": 57,
   "metadata": {},
   "outputs": [],
   "source": [
    "#对于其他列使用把不同类别映射成不同数字的方式\n",
    "from sklearn.preprocessing import LabelEncoder\n",
    "le = LabelEncoder()\n",
    "Y=le.fit_transform(dataset['position'].values)\n",
    "used_features = [\"degree\", \"education\"]\n",
    "X = dataset[used_features].values"
   ]
  },
  {
   "cell_type": "code",
   "execution_count": 58,
   "metadata": {},
   "outputs": [],
   "source": [
    "X[:,0]=le.fit_transform(X[:,0])\n",
    "X[:,1]=le.fit_transform(X[:,1])"
   ]
  },
  {
   "cell_type": "code",
   "execution_count": 65,
   "metadata": {},
   "outputs": [],
   "source": [
    "def word2Vector(data):\n",
    "    temp=[]\n",
    "    words=[];\n",
    "    rs=[]\n",
    "    for i in data:\n",
    "        split = i.split(';')\n",
    "        for i in split:\n",
    "            words.append(i)\n",
    "        temp.append(split)\n",
    "    words = list(set(words))\n",
    "    for i in temp:\n",
    "        tt=[]\n",
    "        for j in words:\n",
    "            if j in i:\n",
    "                tt.append(0)\n",
    "            else:\n",
    "                tt.append(1)\n",
    "        rs.append(tt)\n",
    "    return rs"
   ]
  },
  {
   "cell_type": "code",
   "execution_count": 71,
   "metadata": {},
   "outputs": [],
   "source": [
    "X=np.concatenate((X, word2Vector(dataset['skills'].values)), axis=1)\n",
    "X=np.concatenate((X, word2Vector(dataset['working_experience'].values)), axis=1)\n"
   ]
  },
  {
   "cell_type": "code",
   "execution_count": 72,
   "metadata": {},
   "outputs": [],
   "source": [
    "from sklearn.model_selection import train_test_split\n",
    "X_train, X_test, Y_train, Y_test = train_test_split(X, Y, test_size = 0.1, random_state = 0)# 按分割测试数据与训练数据"
   ]
  },
  {
   "cell_type": "code",
   "execution_count": 73,
   "metadata": {},
   "outputs": [
    {
     "data": {
      "text/plain": [
       "GaussianNB(priors=None, var_smoothing=1e-09)"
      ]
     },
     "execution_count": 73,
     "metadata": {},
     "output_type": "execute_result"
    }
   ],
   "source": [
    "#训练模型\n",
    "from sklearn.naive_bayes import GaussianNB\n",
    "gnb = GaussianNB()\n",
    "gnb.fit(X_train,Y_train)"
   ]
  },
  {
   "cell_type": "code",
   "execution_count": 74,
   "metadata": {},
   "outputs": [],
   "source": [
    "y_pred = gnb.predict(X_test)#预测测试数据"
   ]
  },
  {
   "cell_type": "code",
   "execution_count": 75,
   "metadata": {},
   "outputs": [
    {
     "name": "stdout",
     "output_type": "stream",
     "text": [
      "Number of mislabeled points out of a total 8 points : 2, performance 75.00%\n"
     ]
    }
   ],
   "source": [
    "print(\"Number of mislabeled points out of a total {} points : {}, performance {:05.2f}%\"\n",
    "          .format(\n",
    "              X_test.shape[0],\n",
    "              (Y_test != y_pred).sum(),\n",
    "              100*(1-(Y_test != y_pred).sum()/X_test.shape[0])\n",
    "    ))"
   ]
  },
  {
   "cell_type": "code",
   "execution_count": 76,
   "metadata": {},
   "outputs": [
    {
     "name": "stdout",
     "output_type": "stream",
     "text": [
      "Number of mislabeled points out of a total 8 points : 0, performance 100.00%\n"
     ]
    },
    {
     "name": "stderr",
     "output_type": "stream",
     "text": [
      "c:\\users\\thinking\\appdata\\local\\programs\\python\\python36\\lib\\site-packages\\sklearn\\linear_model\\logistic.py:433: FutureWarning: Default solver will be changed to 'lbfgs' in 0.22. Specify a solver to silence this warning.\n",
      "  FutureWarning)\n",
      "c:\\users\\thinking\\appdata\\local\\programs\\python\\python36\\lib\\site-packages\\sklearn\\linear_model\\logistic.py:460: FutureWarning: Default multi_class will be changed to 'auto' in 0.22. Specify the multi_class option to silence this warning.\n",
      "  \"this warning.\", FutureWarning)\n"
     ]
    }
   ],
   "source": [
    "from sklearn.linear_model import LogisticRegression \n",
    "lr = LogisticRegression(C=1e5)  \n",
    "lr.fit(X_train,Y_train)\n",
    "y_pred = lr.predict(X_test)#预测测试数据\n",
    "print(\"Number of mislabeled points out of a total {} points : {}, performance {:05.2f}%\"\n",
    "          .format(\n",
    "              X_test.shape[0],\n",
    "              (Y_test != y_pred).sum(),\n",
    "              100*(1-(Y_test != y_pred).sum()/X_test.shape[0])\n",
    "    ))"
   ]
  },
  {
   "cell_type": "code",
   "execution_count": 77,
   "metadata": {},
   "outputs": [
    {
     "name": "stdout",
     "output_type": "stream",
     "text": [
      "Number of mislabeled points out of a total 8 points : 0, performance 100.00%\n"
     ]
    }
   ],
   "source": [
    "from sklearn import tree\n",
    "clf = tree.DecisionTreeClassifier()\n",
    "clf.fit(X_train,Y_train)\n",
    "y_pred = clf.predict(X_test)#预测测试数据\n",
    "print(\"Number of mislabeled points out of a total {} points : {}, performance {:05.2f}%\"\n",
    "          .format(\n",
    "              X_test.shape[0],\n",
    "              (Y_test != y_pred).sum(),\n",
    "              100*(1-(Y_test != y_pred).sum()/X_test.shape[0])\n",
    "    ))"
   ]
  },
  {
   "cell_type": "code",
   "execution_count": null,
   "metadata": {},
   "outputs": [],
   "source": []
  }
 ],
 "metadata": {
  "kernelspec": {
   "display_name": "Python 3",
   "language": "python",
   "name": "python3"
  },
  "language_info": {
   "codemirror_mode": {
    "name": "ipython",
    "version": 3
   },
   "file_extension": ".py",
   "mimetype": "text/x-python",
   "name": "python",
   "nbconvert_exporter": "python",
   "pygments_lexer": "ipython3",
   "version": "3.7.0"
  }
 },
 "nbformat": 4,
 "nbformat_minor": 2
}
