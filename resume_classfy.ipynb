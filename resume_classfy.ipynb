{
 "cells": [
  {
   "cell_type": "code",
   "execution_count": 1,
   "metadata": {},
   "outputs": [],
   "source": [
    "import pandas as pd\n",
    "import numpy as np"
   ]
  },
  {
   "cell_type": "code",
   "execution_count": 18,
   "metadata": {},
   "outputs": [
    {
     "data": {
      "text/html": [
       "<div>\n",
       "<style scoped>\n",
       "    .dataframe tbody tr th:only-of-type {\n",
       "        vertical-align: middle;\n",
       "    }\n",
       "\n",
       "    .dataframe tbody tr th {\n",
       "        vertical-align: top;\n",
       "    }\n",
       "\n",
       "    .dataframe thead th {\n",
       "        text-align: right;\n",
       "    }\n",
       "</style>\n",
       "<table border=\"1\" class=\"dataframe\">\n",
       "  <thead>\n",
       "    <tr style=\"text-align: right;\">\n",
       "      <th></th>\n",
       "      <th>degree</th>\n",
       "      <th>education</th>\n",
       "      <th>skills</th>\n",
       "      <th>working_experience</th>\n",
       "      <th>position</th>\n",
       "    </tr>\n",
       "  </thead>\n",
       "  <tbody>\n",
       "    <tr>\n",
       "      <th>0</th>\n",
       "      <td>master</td>\n",
       "      <td>fudan university</td>\n",
       "      <td>19</td>\n",
       "      <td>3</td>\n",
       "      <td>dev</td>\n",
       "    </tr>\n",
       "    <tr>\n",
       "      <th>1</th>\n",
       "      <td>bachelor</td>\n",
       "      <td>inner mongolia university</td>\n",
       "      <td>12</td>\n",
       "      <td>3</td>\n",
       "      <td>dev</td>\n",
       "    </tr>\n",
       "    <tr>\n",
       "      <th>2</th>\n",
       "      <td>bachelor</td>\n",
       "      <td>shanghai university</td>\n",
       "      <td>15</td>\n",
       "      <td>2</td>\n",
       "      <td>dev</td>\n",
       "    </tr>\n",
       "    <tr>\n",
       "      <th>3</th>\n",
       "      <td>master</td>\n",
       "      <td>shanghai jiao tong university</td>\n",
       "      <td>8</td>\n",
       "      <td>2</td>\n",
       "      <td>dev</td>\n",
       "    </tr>\n",
       "    <tr>\n",
       "      <th>4</th>\n",
       "      <td>master</td>\n",
       "      <td>beijing university of post and telecommunications</td>\n",
       "      <td>19</td>\n",
       "      <td>1</td>\n",
       "      <td>dev</td>\n",
       "    </tr>\n",
       "    <tr>\n",
       "      <th>5</th>\n",
       "      <td>master</td>\n",
       "      <td>dalian university of technology</td>\n",
       "      <td>15</td>\n",
       "      <td>2</td>\n",
       "      <td>dev</td>\n",
       "    </tr>\n",
       "    <tr>\n",
       "      <th>6</th>\n",
       "      <td>master</td>\n",
       "      <td>beihang university</td>\n",
       "      <td>11</td>\n",
       "      <td>2</td>\n",
       "      <td>dev</td>\n",
       "    </tr>\n",
       "    <tr>\n",
       "      <th>7</th>\n",
       "      <td>master</td>\n",
       "      <td>university of california  berkeley - walter a....</td>\n",
       "      <td>15</td>\n",
       "      <td>3</td>\n",
       "      <td>dev</td>\n",
       "    </tr>\n",
       "    <tr>\n",
       "      <th>8</th>\n",
       "      <td>master</td>\n",
       "      <td>nanjing university</td>\n",
       "      <td>5</td>\n",
       "      <td>2</td>\n",
       "      <td>dev</td>\n",
       "    </tr>\n",
       "    <tr>\n",
       "      <th>9</th>\n",
       "      <td>master</td>\n",
       "      <td>beijing institute of technology</td>\n",
       "      <td>8</td>\n",
       "      <td>3</td>\n",
       "      <td>dev</td>\n",
       "    </tr>\n",
       "  </tbody>\n",
       "</table>\n",
       "</div>"
      ],
      "text/plain": [
       "     degree                                          education  skills  \\\n",
       "0    master                                   fudan university      19   \n",
       "1  bachelor                          inner mongolia university      12   \n",
       "2  bachelor                                shanghai university      15   \n",
       "3    master                      shanghai jiao tong university       8   \n",
       "4    master  beijing university of post and telecommunications      19   \n",
       "5    master                    dalian university of technology      15   \n",
       "6    master                                 beihang university      11   \n",
       "7    master  university of california  berkeley - walter a....      15   \n",
       "8    master                                 nanjing university       5   \n",
       "9    master                    beijing institute of technology       8   \n",
       "\n",
       "   working_experience position  \n",
       "0                   3      dev  \n",
       "1                   3      dev  \n",
       "2                   2      dev  \n",
       "3                   2      dev  \n",
       "4                   1      dev  \n",
       "5                   2      dev  \n",
       "6                   2      dev  \n",
       "7                   3      dev  \n",
       "8                   2      dev  \n",
       "9                   3      dev  "
      ]
     },
     "execution_count": 18,
     "metadata": {},
     "output_type": "execute_result"
    }
   ],
   "source": [
    "dataset = pd.read_csv('data/employees_dataset.csv')\n",
    "#skills和work_experience列都是多给字符串用分号分隔，此处我想把这两列分别转换成技能个数和经验个数\n",
    "dataset['skills']=dataset['skills'].map(lambda x:len(x.split(';')))\n",
    "dataset['working_experience']=dataset['working_experience'].map(lambda x:len(x.split(';')))\n",
    "dataset.head(10)"
   ]
  },
  {
   "cell_type": "code",
   "execution_count": 24,
   "metadata": {},
   "outputs": [],
   "source": [
    "#对于其他列使用把不同类别映射成不同数字的方式\n",
    "from sklearn.preprocessing import LabelEncoder\n",
    "le = LabelEncoder()\n",
    "Y=le.fit_transform(dataset['position'].values)\n",
    "used_features = [\"degree\", \"education\",\"skills\",\"working_experience\"]\n",
    "X = dataset[used_features].values"
   ]
  },
  {
   "cell_type": "code",
   "execution_count": 29,
   "metadata": {},
   "outputs": [],
   "source": [
    "X[:,0]=le.fit_transform(X[:,0])\n",
    "X[:,1]=le.fit_transform(X[:,1])"
   ]
  },
  {
   "cell_type": "code",
   "execution_count": 42,
   "metadata": {},
   "outputs": [],
   "source": [
    "from sklearn.model_selection import train_test_split\n",
    "X_train, X_test, Y_train, Y_test = train_test_split(X, Y, test_size = 0.1, random_state = 0)# 按分割测试数据与训练数据"
   ]
  },
  {
   "cell_type": "code",
   "execution_count": 43,
   "metadata": {},
   "outputs": [
    {
     "data": {
      "text/plain": [
       "GaussianNB(priors=None, var_smoothing=1e-09)"
      ]
     },
     "execution_count": 43,
     "metadata": {},
     "output_type": "execute_result"
    }
   ],
   "source": [
    "#训练模型\n",
    "from sklearn.naive_bayes import GaussianNB\n",
    "gnb = GaussianNB()\n",
    "gnb.fit(X_train,Y_train)"
   ]
  },
  {
   "cell_type": "code",
   "execution_count": 44,
   "metadata": {},
   "outputs": [],
   "source": [
    "y_pred = gnb.predict(X_test)#预测测试数据"
   ]
  },
  {
   "cell_type": "code",
   "execution_count": 45,
   "metadata": {},
   "outputs": [
    {
     "name": "stdout",
     "output_type": "stream",
     "text": [
      "Number of mislabeled points out of a total 8 points : 4, performance 50.00%\n"
     ]
    }
   ],
   "source": [
    "print(\"Number of mislabeled points out of a total {} points : {}, performance {:05.2f}%\"\n",
    "          .format(\n",
    "              X_test.shape[0],\n",
    "              (Y_test != y_pred).sum(),\n",
    "              100*(1-(Y_test != y_pred).sum()/X_test.shape[0])\n",
    "    ))"
   ]
  },
  {
   "cell_type": "code",
   "execution_count": 46,
   "metadata": {},
   "outputs": [
    {
     "name": "stdout",
     "output_type": "stream",
     "text": [
      "Number of mislabeled points out of a total 8 points : 4, performance 50.00%\n"
     ]
    },
    {
     "name": "stderr",
     "output_type": "stream",
     "text": [
      "c:\\users\\thinking\\appdata\\local\\programs\\python\\python36\\lib\\site-packages\\sklearn\\linear_model\\logistic.py:433: FutureWarning: Default solver will be changed to 'lbfgs' in 0.22. Specify a solver to silence this warning.\n",
      "  FutureWarning)\n",
      "c:\\users\\thinking\\appdata\\local\\programs\\python\\python36\\lib\\site-packages\\sklearn\\linear_model\\logistic.py:460: FutureWarning: Default multi_class will be changed to 'auto' in 0.22. Specify the multi_class option to silence this warning.\n",
      "  \"this warning.\", FutureWarning)\n"
     ]
    }
   ],
   "source": [
    "from sklearn.linear_model import LogisticRegression \n",
    "lr = LogisticRegression(C=1e5)  \n",
    "lr.fit(X_train,Y_train)\n",
    "y_pred = lr.predict(X_test)#预测测试数据\n",
    "print(\"Number of mislabeled points out of a total {} points : {}, performance {:05.2f}%\"\n",
    "          .format(\n",
    "              X_test.shape[0],\n",
    "              (Y_test != y_pred).sum(),\n",
    "              100*(1-(Y_test != y_pred).sum()/X_test.shape[0])\n",
    "    ))"
   ]
  },
  {
   "cell_type": "code",
   "execution_count": 47,
   "metadata": {},
   "outputs": [
    {
     "name": "stdout",
     "output_type": "stream",
     "text": [
      "Number of mislabeled points out of a total 8 points : 3, performance 62.50%\n"
     ]
    }
   ],
   "source": [
    "from sklearn import tree\n",
    "clf = tree.DecisionTreeClassifier()\n",
    "clf.fit(X_train,Y_train)\n",
    "y_pred = clf.predict(X_test)#预测测试数据\n",
    "print(\"Number of mislabeled points out of a total {} points : {}, performance {:05.2f}%\"\n",
    "          .format(\n",
    "              X_test.shape[0],\n",
    "              (Y_test != y_pred).sum(),\n",
    "              100*(1-(Y_test != y_pred).sum()/X_test.shape[0])\n",
    "    ))"
   ]
  },
  {
   "cell_type": "code",
   "execution_count": null,
   "metadata": {},
   "outputs": [],
   "source": []
  }
 ],
 "metadata": {
  "kernelspec": {
   "display_name": "Python 3",
   "language": "python",
   "name": "python3"
  },
  "language_info": {
   "codemirror_mode": {
    "name": "ipython",
    "version": 3
   },
   "file_extension": ".py",
   "mimetype": "text/x-python",
   "name": "python",
   "nbconvert_exporter": "python",
   "pygments_lexer": "ipython3",
   "version": "3.6.2"
  }
 },
 "nbformat": 4,
 "nbformat_minor": 2
}
