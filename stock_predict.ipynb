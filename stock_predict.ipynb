{
 "cells": [
  {
   "cell_type": "code",
   "execution_count": 1,
   "metadata": {},
   "outputs": [],
   "source": [
    "import pandas as pd\n",
    "import numpy as np"
   ]
  },
  {
   "cell_type": "code",
   "execution_count": 4,
   "metadata": {},
   "outputs": [
    {
     "data": {
      "text/html": [
       "<div>\n",
       "<style scoped>\n",
       "    .dataframe tbody tr th:only-of-type {\n",
       "        vertical-align: middle;\n",
       "    }\n",
       "\n",
       "    .dataframe tbody tr th {\n",
       "        vertical-align: top;\n",
       "    }\n",
       "\n",
       "    .dataframe thead th {\n",
       "        text-align: right;\n",
       "    }\n",
       "</style>\n",
       "<table border=\"1\" class=\"dataframe\">\n",
       "  <thead>\n",
       "    <tr style=\"text-align: right;\">\n",
       "      <th></th>\n",
       "      <th>Date</th>\n",
       "      <th>High Price</th>\n",
       "      <th>Low Price</th>\n",
       "      <th>Open Price</th>\n",
       "      <th>Close Price</th>\n",
       "      <th>Volume</th>\n",
       "    </tr>\n",
       "  </thead>\n",
       "  <tbody>\n",
       "    <tr>\n",
       "      <th>0</th>\n",
       "      <td>2014-09-09 00:00:00</td>\n",
       "      <td>46.970001</td>\n",
       "      <td>46.419998</td>\n",
       "      <td>46.470001</td>\n",
       "      <td>46.759998</td>\n",
       "      <td>40302400.0</td>\n",
       "    </tr>\n",
       "    <tr>\n",
       "      <th>1</th>\n",
       "      <td>2014-09-10 00:00:00</td>\n",
       "      <td>46.939999</td>\n",
       "      <td>46.279999</td>\n",
       "      <td>46.820000</td>\n",
       "      <td>46.840000</td>\n",
       "      <td>27302400.0</td>\n",
       "    </tr>\n",
       "    <tr>\n",
       "      <th>2</th>\n",
       "      <td>2014-09-11 00:00:00</td>\n",
       "      <td>47.000000</td>\n",
       "      <td>46.470001</td>\n",
       "      <td>46.740002</td>\n",
       "      <td>47.000000</td>\n",
       "      <td>29216400.0</td>\n",
       "    </tr>\n",
       "    <tr>\n",
       "      <th>3</th>\n",
       "      <td>2014-09-12 00:00:00</td>\n",
       "      <td>47.020000</td>\n",
       "      <td>46.599998</td>\n",
       "      <td>46.910000</td>\n",
       "      <td>46.700001</td>\n",
       "      <td>38244700.0</td>\n",
       "    </tr>\n",
       "    <tr>\n",
       "      <th>4</th>\n",
       "      <td>2014-09-15 00:00:00</td>\n",
       "      <td>46.709999</td>\n",
       "      <td>46.099998</td>\n",
       "      <td>46.540001</td>\n",
       "      <td>46.240002</td>\n",
       "      <td>37667600.0</td>\n",
       "    </tr>\n",
       "    <tr>\n",
       "      <th>5</th>\n",
       "      <td>2014-09-16 00:00:00</td>\n",
       "      <td>46.849998</td>\n",
       "      <td>46.290001</td>\n",
       "      <td>46.389999</td>\n",
       "      <td>46.759998</td>\n",
       "      <td>27910600.0</td>\n",
       "    </tr>\n",
       "    <tr>\n",
       "      <th>6</th>\n",
       "      <td>2014-09-17 00:00:00</td>\n",
       "      <td>46.689999</td>\n",
       "      <td>46.230000</td>\n",
       "      <td>46.259998</td>\n",
       "      <td>46.520000</td>\n",
       "      <td>38311900.0</td>\n",
       "    </tr>\n",
       "    <tr>\n",
       "      <th>7</th>\n",
       "      <td>2014-09-18 00:00:00</td>\n",
       "      <td>46.830002</td>\n",
       "      <td>46.459999</td>\n",
       "      <td>46.590000</td>\n",
       "      <td>46.680000</td>\n",
       "      <td>35556600.0</td>\n",
       "    </tr>\n",
       "    <tr>\n",
       "      <th>8</th>\n",
       "      <td>2014-09-19 00:00:00</td>\n",
       "      <td>47.570000</td>\n",
       "      <td>46.599998</td>\n",
       "      <td>46.810001</td>\n",
       "      <td>47.520000</td>\n",
       "      <td>202522400.0</td>\n",
       "    </tr>\n",
       "    <tr>\n",
       "      <th>9</th>\n",
       "      <td>2014-09-22 00:00:00</td>\n",
       "      <td>47.380001</td>\n",
       "      <td>46.980000</td>\n",
       "      <td>47.299999</td>\n",
       "      <td>47.060001</td>\n",
       "      <td>38686100.0</td>\n",
       "    </tr>\n",
       "  </tbody>\n",
       "</table>\n",
       "</div>"
      ],
      "text/plain": [
       "                  Date  High Price  Low Price  Open Price  Close Price  \\\n",
       "0  2014-09-09 00:00:00   46.970001  46.419998   46.470001    46.759998   \n",
       "1  2014-09-10 00:00:00   46.939999  46.279999   46.820000    46.840000   \n",
       "2  2014-09-11 00:00:00   47.000000  46.470001   46.740002    47.000000   \n",
       "3  2014-09-12 00:00:00   47.020000  46.599998   46.910000    46.700001   \n",
       "4  2014-09-15 00:00:00   46.709999  46.099998   46.540001    46.240002   \n",
       "5  2014-09-16 00:00:00   46.849998  46.290001   46.389999    46.759998   \n",
       "6  2014-09-17 00:00:00   46.689999  46.230000   46.259998    46.520000   \n",
       "7  2014-09-18 00:00:00   46.830002  46.459999   46.590000    46.680000   \n",
       "8  2014-09-19 00:00:00   47.570000  46.599998   46.810001    47.520000   \n",
       "9  2014-09-22 00:00:00   47.380001  46.980000   47.299999    47.060001   \n",
       "\n",
       "        Volume  \n",
       "0   40302400.0  \n",
       "1   27302400.0  \n",
       "2   29216400.0  \n",
       "3   38244700.0  \n",
       "4   37667600.0  \n",
       "5   27910600.0  \n",
       "6   38311900.0  \n",
       "7   35556600.0  \n",
       "8  202522400.0  \n",
       "9   38686100.0  "
      ]
     },
     "execution_count": 4,
     "metadata": {},
     "output_type": "execute_result"
    }
   ],
   "source": [
    "dataset = pd.read_csv('data/msft_stockprices_dataset.csv')\n",
    "dataset.head(10)"
   ]
  },
  {
   "cell_type": "code",
   "execution_count": 48,
   "metadata": {},
   "outputs": [],
   "source": [
    "used_features = [\"High Price\", \"Low Price\",\"Open Price\",\"Volume\"]\n",
    "\n",
    "X = dataset[used_features].values \n",
    "Y = dataset[\"Close Price\"].values "
   ]
  },
  {
   "cell_type": "code",
   "execution_count": 49,
   "metadata": {},
   "outputs": [],
   "source": [
    "from sklearn.model_selection import train_test_split"
   ]
  },
  {
   "cell_type": "code",
   "execution_count": 50,
   "metadata": {},
   "outputs": [],
   "source": [
    "X_train, X_test, Y_train, Y_test = train_test_split(X, Y, test_size = 0.2, random_state = 0)# 按分割测试数据与训练数据"
   ]
  },
  {
   "cell_type": "code",
   "execution_count": 51,
   "metadata": {},
   "outputs": [
    {
     "data": {
      "text/plain": [
       "LinearRegression(copy_X=True, fit_intercept=True, n_jobs=None,\n",
       "         normalize=False)"
      ]
     },
     "execution_count": 51,
     "metadata": {},
     "output_type": "execute_result"
    }
   ],
   "source": [
    "from sklearn.linear_model import LinearRegression\n",
    "regressor = LinearRegression()\n",
    "regressor.fit(X_train, Y_train)#用线性模型拟合训练数据"
   ]
  },
  {
   "cell_type": "code",
   "execution_count": 52,
   "metadata": {},
   "outputs": [],
   "source": [
    "y_pred = regressor.predict(X_test) # 预测测试数据"
   ]
  },
  {
   "cell_type": "code",
   "execution_count": 53,
   "metadata": {},
   "outputs": [
    {
     "name": "stdout",
     "output_type": "stream",
     "text": [
      "LinearRegression(copy_X=True, fit_intercept=True, n_jobs=None,\n",
      "         normalize=False)\n",
      "-0.004279378267497691\n",
      "[ 7.95558571e-01  8.04885403e-01 -5.99383988e-01 -8.21800517e-10]\n",
      "202\n"
     ]
    }
   ],
   "source": [
    "print (regressor)\n",
    "# 训练后模型截距\n",
    "print (regressor.intercept_)\n",
    "# 训练后模型权重（特征个数无变化）\n",
    "print (regressor.coef_)\n",
    "print(Y_test.size)"
   ]
  },
  {
   "cell_type": "code",
   "execution_count": 62,
   "metadata": {},
   "outputs": [
    {
     "name": "stdout",
     "output_type": "stream",
     "text": [
      "RMSE by hand: 0.3313964644176072\n"
     ]
    },
    {
     "data": {
      "image/png": "[encoded data removed]",
      "text/plain": [
       "<Figure size 432x288 with 1 Axes>"
      ]
     },
     "metadata": {
      "needs_background": "light"
     },
     "output_type": "display_data"
    }
   ],
   "source": [
    "#模型评估\n",
    "# 1)平均绝对误差(Mean Absolute Error, MAE)\n",
    "# (2)均方误差(Mean Squared Error, MSE)\n",
    "# (3)均方根误差(Root Mean Squared Error, RMSE)\n",
    "# 这里我使用RMES。\n",
    "\n",
    "import matplotlib.pyplot as plt\n",
    "\n",
    "sum_mean=0\n",
    "for i in range(len(y_pred)):\n",
    "    sum_mean+=(y_pred[i]-Y_test[i])**2\n",
    "total=Y_test.size\n",
    "sum_erro=np.sqrt(sum_mean/total)  #这个10是你测试级的数量\n",
    "# calculate RMSE by hand\n",
    "print (\"RMSE by hand:\",sum_erro)\n",
    "#做ROC曲线\n",
    "plt.figure()\n",
    "plt.plot(range(len(y_pred)),y_pred,'b',label=\"predict\")\n",
    "plt.plot(range(len(y_pred)),Y_test,'r',label=\"test\")\n",
    "plt.legend(loc=\"upper right\") #显示图中的标签\n",
    "plt.xlabel(\"features\")\n",
    "plt.ylabel('close_price')\n",
    "plt.show()"
   ]
  },
  {
   "cell_type": "code",
   "execution_count": 55,
   "metadata": {},
   "outputs": [],
   "source": [
    "a = abs((y_pred-Y_test)/Y_test)"
   ]
  },
  {
   "cell_type": "code",
   "execution_count": 57,
   "metadata": {},
   "outputs": [
    {
     "data": {
      "text/plain": [
       "1.0"
      ]
     },
     "execution_count": 57,
     "metadata": {},
     "output_type": "execute_result"
    }
   ],
   "source": [
    "a[a<=0.1].size/total #错误容忍为10% 时的准确率"
   ]
  },
  {
   "cell_type": "code",
   "execution_count": 60,
   "metadata": {},
   "outputs": [
    {
     "data": {
      "text/plain": [
       "1.0"
      ]
     },
     "execution_count": 60,
     "metadata": {},
     "output_type": "execute_result"
    }
   ],
   "source": [
    "a[a<=0.05].size/total #错误容忍为5% 时的准确率"
   ]
  },
  {
   "cell_type": "code",
   "execution_count": 61,
   "metadata": {},
   "outputs": [
    {
     "data": {
      "text/plain": [
       "0.9554455445544554"
      ]
     },
     "execution_count": 61,
     "metadata": {},
     "output_type": "execute_result"
    }
   ],
   "source": [
    "a[a<=0.01].size/total #错误容忍为5% 时的准确率"
   ]
  },
  {
   "cell_type": "code",
   "execution_count": null,
   "metadata": {},
   "outputs": [],
   "source": []
  }
 ],
 "metadata": {
  "kernelspec": {
   "display_name": "Python 3",
   "language": "python",
   "name": "python3"
  },
  "language_info": {
   "codemirror_mode": {
    "name": "ipython",
    "version": 3
   },
   "file_extension": ".py",
   "mimetype": "text/x-python",
   "name": "python",
   "nbconvert_exporter": "python",
   "pygments_lexer": "ipython3",
   "version": "3.7.0"
  }
 },
 "nbformat": 4,
 "nbformat_minor": 2
}
