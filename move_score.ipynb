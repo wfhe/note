{
 "cells": [
  {
   "cell_type": "code",
   "execution_count": 82,
   "metadata": {},
   "outputs": [],
   "source": [
    "import pandas as pd\n",
    "import numpy as np"
   ]
  },
  {
   "cell_type": "code",
   "execution_count": 83,
   "metadata": {},
   "outputs": [
    {
     "data": {
      "text/html": [
       "<div>\n",
       "<style scoped>\n",
       "    .dataframe tbody tr th:only-of-type {\n",
       "        vertical-align: middle;\n",
       "    }\n",
       "\n",
       "    .dataframe tbody tr th {\n",
       "        vertical-align: top;\n",
       "    }\n",
       "\n",
       "    .dataframe thead th {\n",
       "        text-align: right;\n",
       "    }\n",
       "</style>\n",
       "<table border=\"1\" class=\"dataframe\">\n",
       "  <thead>\n",
       "    <tr style=\"text-align: right;\">\n",
       "      <th></th>\n",
       "      <th>chinese_name</th>\n",
       "      <th>english_name</th>\n",
       "      <th>director</th>\n",
       "      <th>starring</th>\n",
       "      <th>type</th>\n",
       "      <th>release_date</th>\n",
       "      <th>rate</th>\n",
       "      <th>votes</th>\n",
       "      <th>region</th>\n",
       "      <th>runtime</th>\n",
       "      <th>certification</th>\n",
       "      <th>language</th>\n",
       "      <th>company</th>\n",
       "    </tr>\n",
       "  </thead>\n",
       "  <tbody>\n",
       "    <tr>\n",
       "      <th>0</th>\n",
       "      <td>'广岛别恋'</td>\n",
       "      <td>'H Story'</td>\n",
       "      <td>'诹访敦彦'</td>\n",
       "      <td>'碧翠斯·黛尔 町田康 Hiroaki Umano'</td>\n",
       "      <td>'剧情'</td>\n",
       "      <td>'2001-10-17'</td>\n",
       "      <td>'0'</td>\n",
       "      <td>'0'</td>\n",
       "      <td>'日本 '</td>\n",
       "      <td>'111'</td>\n",
       "      <td>''</td>\n",
       "      <td>'日语 '</td>\n",
       "      <td>'Sagittaire Films'</td>\n",
       "    </tr>\n",
       "    <tr>\n",
       "      <th>1</th>\n",
       "      <td>'爱情催眠术'</td>\n",
       "      <td>'Don''t Go Breaking My Heart'</td>\n",
       "      <td>'Willi Patterson'</td>\n",
       "      <td>'安东尼·爱德华兹 Linford Christie Jenny Seagrove'</td>\n",
       "      <td>'爱情 喜剧'</td>\n",
       "      <td>'1999-02-12'</td>\n",
       "      <td>'0'</td>\n",
       "      <td>'0'</td>\n",
       "      <td>'英国 '</td>\n",
       "      <td>'95'</td>\n",
       "      <td>''</td>\n",
       "      <td>'英语 '</td>\n",
       "      <td>'Curb Entertainment'</td>\n",
       "    </tr>\n",
       "    <tr>\n",
       "      <th>2</th>\n",
       "      <td>'有法无天'</td>\n",
       "      <td>'Black and White'</td>\n",
       "      <td>'Craig Lahiff'</td>\n",
       "      <td>'罗伯特·卡莱尔 查里斯·丹斯 凯瑞·福克斯'</td>\n",
       "      <td>'剧情'</td>\n",
       "      <td>'2002-06-07'</td>\n",
       "      <td>'0'</td>\n",
       "      <td>'0'</td>\n",
       "      <td>''</td>\n",
       "      <td>'99'</td>\n",
       "      <td>''</td>\n",
       "      <td>'英语 '</td>\n",
       "      <td>'Madman Entertainment Pty. Ltd.'</td>\n",
       "    </tr>\n",
       "    <tr>\n",
       "      <th>3</th>\n",
       "      <td>'风月'</td>\n",
       "      <td>'Temptress Moon'</td>\n",
       "      <td>'陈凯歌'</td>\n",
       "      <td>'张国荣 巩俐 何赛飞'</td>\n",
       "      <td>'爱情 剧情'</td>\n",
       "      <td>'1996-04-30'</td>\n",
       "      <td>'7.4'</td>\n",
       "      <td>'860'</td>\n",
       "      <td>'中国  中国香港 '</td>\n",
       "      <td>'130'</td>\n",
       "      <td>'USA:R'</td>\n",
       "      <td>'汉语普通话 '</td>\n",
       "      <td>'Argentina Video Home (AVH)'</td>\n",
       "    </tr>\n",
       "    <tr>\n",
       "      <th>4</th>\n",
       "      <td>'星光伴我心延续篇'</td>\n",
       "      <td>'L''Uomo delle stelle'</td>\n",
       "      <td>'朱塞佩·托纳多雷'</td>\n",
       "      <td>'塞吉·卡斯特里图 蒂兹亚娜·罗达托 Franco Scaldati'</td>\n",
       "      <td>'剧情 喜剧'</td>\n",
       "      <td>'1995-11-09'</td>\n",
       "      <td>'8.1'</td>\n",
       "      <td>'79'</td>\n",
       "      <td>'意大利 '</td>\n",
       "      <td>'113'</td>\n",
       "      <td>'USA:R'</td>\n",
       "      <td>'意大利语 '</td>\n",
       "      <td>'二十世纪福斯电影公司'</td>\n",
       "    </tr>\n",
       "    <tr>\n",
       "      <th>5</th>\n",
       "      <td>'隔世情缘'</td>\n",
       "      <td>'Kate &amp; Leopold'</td>\n",
       "      <td>'詹姆斯·曼高德'</td>\n",
       "      <td>'梅格·瑞恩 休·杰克曼 列维·施瑞博尔'</td>\n",
       "      <td>'爱情 奇幻 科幻 喜剧'</td>\n",
       "      <td>'2003-01-01'</td>\n",
       "      <td>'7.6'</td>\n",
       "      <td>'2753'</td>\n",
       "      <td>'美国 '</td>\n",
       "      <td>'118'</td>\n",
       "      <td>'USA:PG-13'</td>\n",
       "      <td>'英语  法语 '</td>\n",
       "      <td>'米拉麦克斯影业公司'</td>\n",
       "    </tr>\n",
       "    <tr>\n",
       "      <th>6</th>\n",
       "      <td>'阿黛尔·雨果的故事'</td>\n",
       "      <td>'L''Histoire d''Adele H.'</td>\n",
       "      <td>'弗朗索瓦·特吕弗'</td>\n",
       "      <td>'伊莎贝尔·阿佳妮 布鲁斯·罗宾逊 西尔维·玛丽奥特'</td>\n",
       "      <td>'剧情 传记'</td>\n",
       "      <td>'1975-10-08'</td>\n",
       "      <td>'8.2'</td>\n",
       "      <td>'411'</td>\n",
       "      <td>'法国 '</td>\n",
       "      <td>'96'</td>\n",
       "      <td>'USA:PG'</td>\n",
       "      <td>'法语  英语 '</td>\n",
       "      <td>'Hemdale Film Distribution Ltd.'</td>\n",
       "    </tr>\n",
       "    <tr>\n",
       "      <th>7</th>\n",
       "      <td>'盗火线'</td>\n",
       "      <td>'Heat'</td>\n",
       "      <td>'迈克尔·曼'</td>\n",
       "      <td>'阿尔·帕西诺 罗伯特·德尼罗 方·基默'</td>\n",
       "      <td>'动作 惊悚 剧情 犯罪'</td>\n",
       "      <td>'1995-12-15'</td>\n",
       "      <td>'8.3'</td>\n",
       "      <td>'10847'</td>\n",
       "      <td>'美国 '</td>\n",
       "      <td>'171'</td>\n",
       "      <td>'USA:R'</td>\n",
       "      <td>'英语  西班牙语 '</td>\n",
       "      <td>'华纳兄弟影片公司'</td>\n",
       "    </tr>\n",
       "    <tr>\n",
       "      <th>8</th>\n",
       "      <td>'发条橙子'</td>\n",
       "      <td>'A Clockwork Orange'</td>\n",
       "      <td>'斯坦利·库布里克'</td>\n",
       "      <td>'马尔科姆·麦克道威尔 迈克尔·贝茨 沃伦·克拉克'</td>\n",
       "      <td>'惊悚 剧情 科幻 犯罪'</td>\n",
       "      <td>'1972-01-13'</td>\n",
       "      <td>'8.4'</td>\n",
       "      <td>'7264'</td>\n",
       "      <td>'英国  美国 '</td>\n",
       "      <td>'136'</td>\n",
       "      <td>'USA:R'</td>\n",
       "      <td>'英语 '</td>\n",
       "      <td>'华纳兄弟影片公司'</td>\n",
       "    </tr>\n",
       "    <tr>\n",
       "      <th>9</th>\n",
       "      <td>'喋血双雄'</td>\n",
       "      <td>'The Killer'</td>\n",
       "      <td>'吴宇森'</td>\n",
       "      <td>'周润发 李修贤 叶倩文'</td>\n",
       "      <td>'动作 惊悚 剧情 犯罪'</td>\n",
       "      <td>'1989-07-06'</td>\n",
       "      <td>'8.2'</td>\n",
       "      <td>'2539'</td>\n",
       "      <td>'中国香港 '</td>\n",
       "      <td>'111'</td>\n",
       "      <td>'USA:R'</td>\n",
       "      <td>'粤语  日语 '</td>\n",
       "      <td>'标准收藏'</td>\n",
       "    </tr>\n",
       "  </tbody>\n",
       "</table>\n",
       "</div>"
      ],
      "text/plain": [
       "  chinese_name                    english_name            director  \\\n",
       "0       '广岛别恋'                       'H Story'              '诹访敦彦'   \n",
       "1      '爱情催眠术'   'Don''t Go Breaking My Heart'   'Willi Patterson'   \n",
       "2       '有法无天'               'Black and White'      'Craig Lahiff'   \n",
       "3         '风月'                'Temptress Moon'               '陈凯歌'   \n",
       "4   '星光伴我心延续篇'          'L''Uomo delle stelle'          '朱塞佩·托纳多雷'   \n",
       "5       '隔世情缘'                'Kate & Leopold'           '詹姆斯·曼高德'   \n",
       "6  '阿黛尔·雨果的故事'       'L''Histoire d''Adele H.'          '弗朗索瓦·特吕弗'   \n",
       "7        '盗火线'                          'Heat'             '迈克尔·曼'   \n",
       "8       '发条橙子'            'A Clockwork Orange'          '斯坦利·库布里克'   \n",
       "9       '喋血双雄'                    'The Killer'               '吴宇森'   \n",
       "\n",
       "                                      starring            type   release_date  \\\n",
       "0                   '碧翠斯·黛尔 町田康 Hiroaki Umano'            '剧情'   '2001-10-17'   \n",
       "1   '安东尼·爱德华兹 Linford Christie Jenny Seagrove'         '爱情 喜剧'   '1999-02-12'   \n",
       "2                      '罗伯特·卡莱尔 查里斯·丹斯 凯瑞·福克斯'            '剧情'   '2002-06-07'   \n",
       "3                                 '张国荣 巩俐 何赛飞'         '爱情 剧情'   '1996-04-30'   \n",
       "4          '塞吉·卡斯特里图 蒂兹亚娜·罗达托 Franco Scaldati'         '剧情 喜剧'   '1995-11-09'   \n",
       "5                        '梅格·瑞恩 休·杰克曼 列维·施瑞博尔'   '爱情 奇幻 科幻 喜剧'   '2003-01-01'   \n",
       "6                  '伊莎贝尔·阿佳妮 布鲁斯·罗宾逊 西尔维·玛丽奥特'         '剧情 传记'   '1975-10-08'   \n",
       "7                        '阿尔·帕西诺 罗伯特·德尼罗 方·基默'   '动作 惊悚 剧情 犯罪'   '1995-12-15'   \n",
       "8                   '马尔科姆·麦克道威尔 迈克尔·贝茨 沃伦·克拉克'   '惊悚 剧情 科幻 犯罪'   '1972-01-13'   \n",
       "9                                '周润发 李修贤 叶倩文'   '动作 惊悚 剧情 犯罪'   '1989-07-06'   \n",
       "\n",
       "     rate     votes        region runtime certification      language  \\\n",
       "0     '0'       '0'         '日本 '   '111'            ''         '日语 '   \n",
       "1     '0'       '0'         '英国 '    '95'            ''         '英语 '   \n",
       "2     '0'       '0'            ''    '99'            ''         '英语 '   \n",
       "3   '7.4'     '860'   '中国  中国香港 '   '130'       'USA:R'      '汉语普通话 '   \n",
       "4   '8.1'      '79'        '意大利 '   '113'       'USA:R'       '意大利语 '   \n",
       "5   '7.6'    '2753'         '美国 '   '118'   'USA:PG-13'     '英语  法语 '   \n",
       "6   '8.2'     '411'         '法国 '    '96'      'USA:PG'     '法语  英语 '   \n",
       "7   '8.3'   '10847'         '美国 '   '171'       'USA:R'   '英语  西班牙语 '   \n",
       "8   '8.4'    '7264'     '英国  美国 '   '136'       'USA:R'         '英语 '   \n",
       "9   '8.2'    '2539'       '中国香港 '   '111'       'USA:R'     '粤语  日语 '   \n",
       "\n",
       "                             company  \n",
       "0                 'Sagittaire Films'  \n",
       "1               'Curb Entertainment'  \n",
       "2   'Madman Entertainment Pty. Ltd.'  \n",
       "3       'Argentina Video Home (AVH)'  \n",
       "4                       '二十世纪福斯电影公司'  \n",
       "5                        '米拉麦克斯影业公司'  \n",
       "6   'Hemdale Film Distribution Ltd.'  \n",
       "7                         '华纳兄弟影片公司'  \n",
       "8                         '华纳兄弟影片公司'  \n",
       "9                             '标准收藏'  "
      ]
     },
     "execution_count": 83,
     "metadata": {},
     "output_type": "execute_result"
    }
   ],
   "source": [
    "dataset = pd.read_csv('data/movies_dataset.csv',quoting=False)\n",
    "dataset.head(10)"
   ]
  },
  {
   "cell_type": "code",
   "execution_count": 84,
   "metadata": {
    "scrolled": true
   },
   "outputs": [],
   "source": [
    "# 数据清洗，删除空值和错位数据\n",
    "# 选取有用特征\n",
    "#axis：0-行操作（默认），1-列操作 \n",
    "#how：any-只要有空值就删除（默认），all-全部为空值才删除 \n",
    "#inplace：False-返回新的数据集（默认），True-在愿数据集上操作\n",
    "used_features = [\"director\", \"starring\",\"type\",\"rate\",\"votes\",\"region\",\"runtime\",\"language\",\"company\"]\n",
    "dataset=dataset[used_features].applymap(lambda x: x.replace(\"\\'\",'').replace(r\"\\n\",\"\").strip()).applymap(lambda x: np.NaN if str(x).isspace() or x=='null' else x)\n",
    "dataset.dropna(axis=0, how='any', inplace=True)\n",
    "number_features = ['rate','votes','runtime']\n",
    "dataset[number_features]=dataset[number_features].applymap(lambda x: float(x) if x.isdigit() else -1)\n",
    "dataset = dataset[dataset['votes']>0]\n",
    "dataset = dataset[dataset['rate']>0]\n",
    "dataset = dataset[dataset['runtime']>0]\n",
    "\n",
    "dataset[['rate','votes','runtime']] = dataset[['rate','votes','runtime']].apply(pd.to_numeric)\n"
   ]
  },
  {
   "cell_type": "code",
   "execution_count": 138,
   "metadata": {},
   "outputs": [],
   "source": [
    "def word2Vector(data):\n",
    "    temp=[]\n",
    "    words=[];\n",
    "    rs=[]\n",
    "    for i in data:\n",
    "        split = i.split(' ')\n",
    "        for i in split:\n",
    "            words.append(i)\n",
    "        temp.append(split)\n",
    "    words = list(set(words))\n",
    "    for i in temp:\n",
    "        tt=[]\n",
    "        for j in words:\n",
    "            if j in i:\n",
    "                tt.append(0)\n",
    "            else:\n",
    "                tt.append(1)\n",
    "        rs.append(tt)\n",
    "    return rs\n",
    "\n"
   ]
  },
  {
   "cell_type": "code",
   "execution_count": 126,
   "metadata": {},
   "outputs": [],
   "source": [
    "from sklearn.preprocessing import LabelEncoder\n",
    "le = LabelEncoder()\n",
    "Y=dataset['rate'].values\n",
    "used_features = [\"director\",\"votes\",\"region\",\"runtime\",\"company\"]\n",
    "X = dataset[used_features].values\n",
    "X[:,0]=le.fit_transform(X[:,0])\n",
    "X[:,2]=le.fit_transform(X[:,2])\n",
    "X[:,4]=le.fit_transform(X[:,4])\n",
    "X=np.concatenate((X, word2Vector(dataset['type'].values)), axis=1)\n",
    "X=np.concatenate((X, word2Vector(dataset['starring'].values)), axis=1)\n",
    "X=np.concatenate((X, word2Vector(dataset['language'].values)), axis=1)"
   ]
  },
  {
   "cell_type": "code",
   "execution_count": 127,
   "metadata": {},
   "outputs": [
    {
     "data": {
      "text/plain": [
       "LinearRegression(copy_X=True, fit_intercept=True, n_jobs=None,\n",
       "         normalize=False)"
      ]
     },
     "execution_count": 127,
     "metadata": {},
     "output_type": "execute_result"
    }
   ],
   "source": [
    "from sklearn.model_selection import train_test_split\n",
    "X_train, X_test, Y_train, Y_test = train_test_split(X, Y, test_size = 0.1, random_state = 0)# 按分割测试数据与训练数据\n",
    "from sklearn.linear_model import LinearRegression\n",
    "regressor = LinearRegression()\n",
    "regressor.fit(X_train, Y_train)#用线性模型拟合训练数据"
   ]
  },
  {
   "cell_type": "code",
   "execution_count": 129,
   "metadata": {},
   "outputs": [
    {
     "data": {
      "text/plain": [
       "0.010752688172043012"
      ]
     },
     "execution_count": 129,
     "metadata": {},
     "output_type": "execute_result"
    }
   ],
   "source": [
    "y_pred = regressor.predict(X_test) # 预测测试数据\n",
    "total=Y_test.size\n",
    "a = abs((y_pred-Y_test)/Y_test)\n",
    "a[a<=0.1].size/total #错误容忍为10% 时的准确率"
   ]
  },
  {
   "cell_type": "code",
   "execution_count": 130,
   "metadata": {},
   "outputs": [
    {
     "data": {
      "text/plain": [
       "0.005376344086021506"
      ]
     },
     "execution_count": 130,
     "metadata": {},
     "output_type": "execute_result"
    }
   ],
   "source": [
    "a[a<=0.05].size/total #错误容忍为5% 时的准确率"
   ]
  },
  {
   "cell_type": "code",
   "execution_count": 131,
   "metadata": {},
   "outputs": [
    {
     "data": {
      "text/plain": [
       "0.005376344086021506"
      ]
     },
     "execution_count": 131,
     "metadata": {},
     "output_type": "execute_result"
    }
   ],
   "source": [
    "a[a<=0.01].size/total #错误容忍为1% 时的准确率"
   ]
  },
  {
   "cell_type": "code",
   "execution_count": 132,
   "metadata": {},
   "outputs": [],
   "source": [
    "from sklearn import tree\n",
    "clf = tree.DecisionTreeClassifier()\n",
    "clf.fit(X_train,Y_train)\n",
    "y_pred = clf.predict(X_test)#预测测试数据"
   ]
  },
  {
   "cell_type": "code",
   "execution_count": 133,
   "metadata": {},
   "outputs": [
    {
     "data": {
      "text/plain": [
       "0.4838709677419355"
      ]
     },
     "execution_count": 133,
     "metadata": {},
     "output_type": "execute_result"
    }
   ],
   "source": [
    "total=Y_test.size\n",
    "a = abs((y_pred-Y_test)/Y_test)\n",
    "a[a<=0.01].size/total #错误容忍为1% 时的准确率"
   ]
  },
  {
   "cell_type": "code",
   "execution_count": 134,
   "metadata": {},
   "outputs": [
    {
     "data": {
      "text/plain": [
       "0.4838709677419355"
      ]
     },
     "execution_count": 134,
     "metadata": {},
     "output_type": "execute_result"
    }
   ],
   "source": [
    "a[a<=0.05].size/total #错误容忍为5% 时的准确率"
   ]
  },
  {
   "cell_type": "code",
   "execution_count": 135,
   "metadata": {},
   "outputs": [
    {
     "data": {
      "text/plain": [
       "0.4838709677419355"
      ]
     },
     "execution_count": 135,
     "metadata": {},
     "output_type": "execute_result"
    }
   ],
   "source": [
    "a[a<=0.1].size/total #错误容忍为10% 时的准确率"
   ]
  },
  {
   "cell_type": "code",
   "execution_count": 139,
   "metadata": {},
   "outputs": [
    {
     "name": "stderr",
     "output_type": "stream",
     "text": [
      "c:\\users\\thinking\\appdata\\local\\programs\\python\\python36\\lib\\site-packages\\sklearn\\linear_model\\logistic.py:433: FutureWarning: Default solver will be changed to 'lbfgs' in 0.22. Specify a solver to silence this warning.\n",
      "  FutureWarning)\n",
      "c:\\users\\thinking\\appdata\\local\\programs\\python\\python36\\lib\\site-packages\\sklearn\\linear_model\\logistic.py:460: FutureWarning: Default multi_class will be changed to 'auto' in 0.22. Specify the multi_class option to silence this warning.\n",
      "  \"this warning.\", FutureWarning)\n",
      "c:\\users\\thinking\\appdata\\local\\programs\\python\\python36\\lib\\site-packages\\sklearn\\svm\\base.py:922: ConvergenceWarning: Liblinear failed to converge, increase the number of iterations.\n",
      "  \"the number of iterations.\", ConvergenceWarning)\n"
     ]
    }
   ],
   "source": [
    "from sklearn.linear_model import LogisticRegression \n",
    "lr = LogisticRegression(C=1e5)  \n",
    "lr.fit(X_train,Y_train)\n",
    "y_pred = lr.predict(X_test)#预测测试数据"
   ]
  },
  {
   "cell_type": "code",
   "execution_count": 140,
   "metadata": {},
   "outputs": [
    {
     "data": {
      "text/plain": [
       "0.5806451612903226"
      ]
     },
     "execution_count": 140,
     "metadata": {},
     "output_type": "execute_result"
    }
   ],
   "source": [
    "total=Y_test.size\n",
    "a = abs((y_pred-Y_test)/Y_test)\n",
    "a[a<=0.01].size/total #错误容忍为1% 时的准确率"
   ]
  },
  {
   "cell_type": "code",
   "execution_count": 141,
   "metadata": {},
   "outputs": [
    {
     "data": {
      "text/plain": [
       "0.5806451612903226"
      ]
     },
     "execution_count": 141,
     "metadata": {},
     "output_type": "execute_result"
    }
   ],
   "source": [
    "a[a<=0.05].size/total #错误容忍为5% 时的准确率"
   ]
  },
  {
   "cell_type": "code",
   "execution_count": 142,
   "metadata": {},
   "outputs": [
    {
     "data": {
      "text/plain": [
       "0.5806451612903226"
      ]
     },
     "execution_count": 142,
     "metadata": {},
     "output_type": "execute_result"
    }
   ],
   "source": [
    "a[a<=0.1].size/total #错误容忍为10% 时的准确率"
   ]
  },
  {
   "cell_type": "code",
   "execution_count": null,
   "metadata": {},
   "outputs": [],
   "source": []
  }
 ],
 "metadata": {
  "kernelspec": {
   "display_name": "Python 3",
   "language": "python",
   "name": "python3"
  },
  "language_info": {
   "codemirror_mode": {
    "name": "ipython",
    "version": 3
   },
   "file_extension": ".py",
   "mimetype": "text/x-python",
   "name": "python",
   "nbconvert_exporter": "python",
   "pygments_lexer": "ipython3",
   "version": "3.6.2"
  }
 },
 "nbformat": 4,
 "nbformat_minor": 2
}
